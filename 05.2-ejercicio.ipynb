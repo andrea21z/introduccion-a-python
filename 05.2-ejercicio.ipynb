{
 "cells": [
  {
   "cell_type": "markdown",
   "metadata": {},
   "source": [
    "Crear una clase `Fraccion` que implemente la representación de un número como una fracción (i.e. numerador/denominador).\n",
    "\n",
    "Debe implementar los siguientes métodos:\n",
    "* Suma\n",
    "* Resta\n",
    "* Multiplicación\n",
    "* Inversa\n",
    "* Imprimir su representación\n",
    "* Extra: Posibilidad de convertir el objeto a flotante."
   ]
  },
  {
   "cell_type": "code",
   "execution_count": 37,
   "metadata": {},
   "outputs": [],
   "source": [
    "from fractions import Fraction\n",
    "\n",
    "class Fraccion(object):  # Clase\n",
    "    \n",
    "    def __init__(self, x):\n",
    "        self.x = Fraction(x)\n",
    "              \n",
    "    def suma(self, other):\n",
    "        return (self.x + other.x)\n",
    "    \n",
    "    def resta(self,other):\n",
    "        return (self.x - other.x)\n",
    "    \n",
    "    def multiplicacion(self,other):\n",
    "        return (self.x * other.x)\n",
    "    \n",
    "    def inversa(self):\n",
    "        return (1/self.x)\n",
    "    \n",
    "    def repre(self):\n",
    "        print(self.x)\n",
    "        #return (self.x.numerator,'/',self.x.denominator)\n",
    "        \n",
    "    def flotante(self):\n",
    "        a=self.x.numerator\n",
    "        b=self.x.denominator\n",
    "        return (a/b)\n",
    "       # return (Fraction(str(self.x)))\n",
    "    "
   ]
  },
  {
   "cell_type": "code",
   "execution_count": 41,
   "metadata": {},
   "outputs": [
    {
     "name": "stdout",
     "output_type": "stream",
     "text": [
      "4\n",
      "1.5\n"
     ]
    }
   ],
   "source": [
    "c=Fraccion('1.5')\n",
    "d=Fraccion('2.5')\n",
    "print(c.suma(d))\n",
    "#c.repre()\n",
    "print(c.flotante())"
   ]
  },
  {
   "cell_type": "code",
   "execution_count": null,
   "metadata": {},
   "outputs": [],
   "source": []
  }
 ],
 "metadata": {
  "kernelspec": {
   "display_name": "Python 3",
   "language": "python",
   "name": "python3"
  },
  "language_info": {
   "codemirror_mode": {
    "name": "ipython",
    "version": 3
   },
   "file_extension": ".py",
   "mimetype": "text/x-python",
   "name": "python",
   "nbconvert_exporter": "python",
   "pygments_lexer": "ipython3",
   "version": "3.6.5"
  }
 },
 "nbformat": 4,
 "nbformat_minor": 2
}
